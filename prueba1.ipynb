{
  "nbformat": 4,
  "nbformat_minor": 0,
  "metadata": {
    "colab": {
      "name": "prueba1.ipynb",
      "provenance": [],
      "collapsed_sections": [],
      "authorship_tag": "ABX9TyOmazXN9r/ZaZLPBxYoGSK0",
      "include_colab_link": true
    },
    "kernelspec": {
      "name": "python3",
      "display_name": "Python 3"
    },
    "language_info": {
      "name": "python"
    }
  },
  "cells": [
    {
      "cell_type": "markdown",
      "metadata": {
        "id": "view-in-github",
        "colab_type": "text"
      },
      "source": [
        "<a href=\"https://colab.research.google.com/github/ValentinaMarta/googleColabPython/blob/main/prueba1.ipynb\" target=\"_parent\"><img src=\"https://colab.research.google.com/assets/colab-badge.svg\" alt=\"Open In Colab\"/></a>"
      ]
    },
    {
      "cell_type": "code",
      "execution_count": 1,
      "metadata": {
        "colab": {
          "base_uri": "https://localhost:8080/"
        },
        "id": "uUs5WQDCjByy",
        "outputId": "f9af4672-c633-4e6b-cc15-f89316467859"
      },
      "outputs": [
        {
          "output_type": "stream",
          "name": "stdout",
          "text": [
            "Hola chicas\n"
          ]
        }
      ],
      "source": [
        "print (\"Hola chicas\")"
      ]
    },
    {
      "cell_type": "markdown",
      "source": [
        "#1.mostrar por panralla la suma de dos numero"
      ],
      "metadata": {
        "id": "y7FP7aKAk9sl"
      }
    },
    {
      "cell_type": "code",
      "source": [
        "num=int(input(\"dime un numero \" ))"
      ],
      "metadata": {
        "colab": {
          "base_uri": "https://localhost:8080/"
        },
        "id": "i8OxPzc0lbik",
        "outputId": "a6dc2ca4-3e3c-41d4-9671-128135f9663d"
      },
      "execution_count": 8,
      "outputs": [
        {
          "name": "stdout",
          "output_type": "stream",
          "text": [
            "dime un numero 2\n"
          ]
        }
      ]
    },
    {
      "cell_type": "code",
      "source": [
        "num2=int(input(\"dime otro numero \"))"
      ],
      "metadata": {
        "colab": {
          "base_uri": "https://localhost:8080/"
        },
        "id": "af-1rzw4mC-q",
        "outputId": "528b1659-f43c-48d4-846f-423a5934f58a"
      },
      "execution_count": 9,
      "outputs": [
        {
          "name": "stdout",
          "output_type": "stream",
          "text": [
            "dime otro numero 8\n"
          ]
        }
      ]
    },
    {
      "cell_type": "code",
      "source": [
        "total=num+num2\n",
        "print(total)"
      ],
      "metadata": {
        "colab": {
          "base_uri": "https://localhost:8080/"
        },
        "id": "o98EW2MEuUiz",
        "outputId": "401b9453-ef50-4aa5-a6c6-a3c3393e94bd"
      },
      "execution_count": 10,
      "outputs": [
        {
          "output_type": "stream",
          "name": "stdout",
          "text": [
            "10\n"
          ]
        }
      ]
    },
    {
      "cell_type": "code",
      "source": [
        "n3=int(input(\"dime otro numero \"))\n"
      ],
      "metadata": {
        "colab": {
          "base_uri": "https://localhost:8080/"
        },
        "id": "spsB5xoewpSN",
        "outputId": "88e7f852-4830-4169-e7ba-e8287b492394"
      },
      "execution_count": 11,
      "outputs": [
        {
          "name": "stdout",
          "output_type": "stream",
          "text": [
            "dime otro numero 5\n"
          ]
        }
      ]
    },
    {
      "cell_type": "code",
      "source": [
        "n4=float(input(\"dime otro numero \"))"
      ],
      "metadata": {
        "colab": {
          "base_uri": "https://localhost:8080/"
        },
        "id": "aPj2ntQDw4oC",
        "outputId": "941f4851-757e-4722-ea24-9dcb4b2c2d86"
      },
      "execution_count": 12,
      "outputs": [
        {
          "name": "stdout",
          "output_type": "stream",
          "text": [
            "dime otro numero 3.01\n"
          ]
        }
      ]
    },
    {
      "cell_type": "code",
      "source": [
        "tot=n4+n3\n",
        "print(tot)"
      ],
      "metadata": {
        "colab": {
          "base_uri": "https://localhost:8080/"
        },
        "id": "F0GChswcxBut",
        "outputId": "2503ce51-1e2a-4c0a-8b7f-d0d1502810fc"
      },
      "execution_count": 14,
      "outputs": [
        {
          "output_type": "stream",
          "name": "stdout",
          "text": [
            "8.01\n"
          ]
        }
      ]
    },
    {
      "cell_type": "code",
      "source": [
        "miEdad=18\n",
        "print(miEdad)\n",
        "print(miEdad+1)\n",
        "print(miEdad-1)"
      ],
      "metadata": {
        "colab": {
          "base_uri": "https://localhost:8080/"
        },
        "id": "QIKgRDYK2oTu",
        "outputId": "c9a547b2-1239-4f5f-e23c-4fcfcb4e2716"
      },
      "execution_count": 18,
      "outputs": [
        {
          "output_type": "stream",
          "name": "stdout",
          "text": [
            "18\n",
            "19\n",
            "17\n"
          ]
        }
      ]
    },
    {
      "cell_type": "code",
      "source": [
        "x=10\n",
        "y=5\n",
        "resultado=y*x\n",
        "print(resultado)"
      ],
      "metadata": {
        "colab": {
          "base_uri": "https://localhost:8080/"
        },
        "id": "Psm91Vc94HmM",
        "outputId": "a23257ff-e71c-4dfd-b7d2-572ef4b8be78"
      },
      "execution_count": 20,
      "outputs": [
        {
          "output_type": "stream",
          "name": "stdout",
          "text": [
            "50\n"
          ]
        }
      ]
    },
    {
      "cell_type": "code",
      "source": [
        "x=False\n",
        "print(x)\n",
        "print(type(x))"
      ],
      "metadata": {
        "colab": {
          "base_uri": "https://localhost:8080/"
        },
        "id": "yYOnqINU6rtp",
        "outputId": "f43c220f-7a90-4d82-c60f-c443c2ddc833"
      },
      "execution_count": 21,
      "outputs": [
        {
          "output_type": "stream",
          "name": "stdout",
          "text": [
            "False\n",
            "<class 'bool'>\n"
          ]
        }
      ]
    },
    {
      "cell_type": "code",
      "source": [
        "x=20\n",
        "y=5\n",
        "if x == y:\n",
        "  print(x)\n",
        "else:\n",
        "  print(\"no son iguales\")"
      ],
      "metadata": {
        "colab": {
          "base_uri": "https://localhost:8080/"
        },
        "id": "aiFMCimZ69mN",
        "outputId": "495b0356-debf-4007-f6ed-b60bbf899814"
      },
      "execution_count": 23,
      "outputs": [
        {
          "output_type": "stream",
          "name": "stdout",
          "text": [
            "no son iguales\n"
          ]
        }
      ]
    },
    {
      "cell_type": "code",
      "source": [
        "i = 0\n",
        "while i < 10:\n",
        "  print(i)\n",
        "  i += 1"
      ],
      "metadata": {
        "colab": {
          "base_uri": "https://localhost:8080/"
        },
        "id": "Jlv_5xWT-wlz",
        "outputId": "9234c6b4-a3ec-4169-dc84-3f3f0690c5f7"
      },
      "execution_count": 24,
      "outputs": [
        {
          "output_type": "stream",
          "name": "stdout",
          "text": [
            "0\n",
            "1\n",
            "2\n",
            "3\n",
            "4\n",
            "5\n",
            "6\n",
            "7\n",
            "8\n",
            "9\n"
          ]
        }
      ]
    }
  ]
}