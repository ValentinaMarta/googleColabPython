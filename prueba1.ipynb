{
  "nbformat": 4,
  "nbformat_minor": 0,
  "metadata": {
    "colab": {
      "name": "prueba1.ipynb",
      "provenance": [],
      "collapsed_sections": [],
      "authorship_tag": "ABX9TyNcLc+MRuBzkGUqPDEgMCru",
      "include_colab_link": true
    },
    "kernelspec": {
      "name": "python3",
      "display_name": "Python 3"
    },
    "language_info": {
      "name": "python"
    }
  },
  "cells": [
    {
      "cell_type": "markdown",
      "metadata": {
        "id": "view-in-github",
        "colab_type": "text"
      },
      "source": [
        "<a href=\"https://colab.research.google.com/github/ValentinaMarta/googleColabPython/blob/main/prueba1.ipynb\" target=\"_parent\"><img src=\"https://colab.research.google.com/assets/colab-badge.svg\" alt=\"Open In Colab\"/></a>"
      ]
    },
    {
      "cell_type": "code",
      "execution_count": 1,
      "metadata": {
        "colab": {
          "base_uri": "https://localhost:8080/"
        },
        "id": "uUs5WQDCjByy",
        "outputId": "f9af4672-c633-4e6b-cc15-f89316467859"
      },
      "outputs": [
        {
          "output_type": "stream",
          "name": "stdout",
          "text": [
            "Hola chicas\n"
          ]
        }
      ],
      "source": [
        "print (\"Hola chicas\")"
      ]
    },
    {
      "cell_type": "code",
      "source": [
        ""
      ],
      "metadata": {
        "id": "G961ogEICRFm"
      },
      "execution_count": null,
      "outputs": []
    },
    {
      "cell_type": "markdown",
      "source": [
        "#1.mostrar por pantalla la suma de dos numero"
      ],
      "metadata": {
        "id": "y7FP7aKAk9sl"
      }
    },
    {
      "cell_type": "code",
      "source": [
        "num=int(input(\"dime un numero \" ))"
      ],
      "metadata": {
        "colab": {
          "base_uri": "https://localhost:8080/"
        },
        "id": "i8OxPzc0lbik",
        "outputId": "006ebf02-1836-41a6-c790-e5511388cf02"
      },
      "execution_count": 27,
      "outputs": [
        {
          "name": "stdout",
          "output_type": "stream",
          "text": [
            "dime un numero 3\n"
          ]
        }
      ]
    },
    {
      "cell_type": "code",
      "source": [
        "num2=int(input(\"dime otro numero \"))"
      ],
      "metadata": {
        "colab": {
          "base_uri": "https://localhost:8080/"
        },
        "id": "af-1rzw4mC-q",
        "outputId": "b2b3d858-2a31-4746-a777-22502fbd37e6"
      },
      "execution_count": 28,
      "outputs": [
        {
          "name": "stdout",
          "output_type": "stream",
          "text": [
            "dime otro numero 4\n"
          ]
        }
      ]
    },
    {
      "cell_type": "code",
      "source": [
        "total=num+num2\n",
        "print(total)"
      ],
      "metadata": {
        "colab": {
          "base_uri": "https://localhost:8080/"
        },
        "id": "o98EW2MEuUiz",
        "outputId": "bb32bb85-9c34-4d7e-ceca-192ab1f4d9d8"
      },
      "execution_count": 29,
      "outputs": [
        {
          "output_type": "stream",
          "name": "stdout",
          "text": [
            "7\n"
          ]
        }
      ]
    },
    {
      "cell_type": "code",
      "source": [
        "n3=int(input(\"dime otro numero \"))\n"
      ],
      "metadata": {
        "colab": {
          "base_uri": "https://localhost:8080/"
        },
        "id": "spsB5xoewpSN",
        "outputId": "c99e8667-eca1-401f-9b60-71e18316825a"
      },
      "execution_count": 30,
      "outputs": [
        {
          "name": "stdout",
          "output_type": "stream",
          "text": [
            "dime otro numero 10\n"
          ]
        }
      ]
    },
    {
      "cell_type": "code",
      "source": [
        "n4=float(input(\"dime otro numero \"))"
      ],
      "metadata": {
        "colab": {
          "base_uri": "https://localhost:8080/"
        },
        "id": "aPj2ntQDw4oC",
        "outputId": "a69b6048-0218-4b89-9ce1-551fb3e0561b"
      },
      "execution_count": 31,
      "outputs": [
        {
          "name": "stdout",
          "output_type": "stream",
          "text": [
            "dime otro numero 34\n"
          ]
        }
      ]
    },
    {
      "cell_type": "code",
      "source": [
        "tot=n4+n3\n",
        "print(tot)"
      ],
      "metadata": {
        "colab": {
          "base_uri": "https://localhost:8080/"
        },
        "id": "F0GChswcxBut",
        "outputId": "648d1b92-ede5-4245-e90d-7c70cdcdad3e"
      },
      "execution_count": 32,
      "outputs": [
        {
          "output_type": "stream",
          "name": "stdout",
          "text": [
            "44.0\n"
          ]
        }
      ]
    },
    {
      "cell_type": "code",
      "source": [
        "miEdad=18\n",
        "print(miEdad)\n",
        "print(miEdad+1)\n",
        "print(miEdad-1)"
      ],
      "metadata": {
        "colab": {
          "base_uri": "https://localhost:8080/"
        },
        "id": "QIKgRDYK2oTu",
        "outputId": "59213e72-e7f1-4be8-d93c-8d0fb369f2dc"
      },
      "execution_count": 33,
      "outputs": [
        {
          "output_type": "stream",
          "name": "stdout",
          "text": [
            "18\n",
            "19\n",
            "17\n"
          ]
        }
      ]
    },
    {
      "cell_type": "code",
      "source": [
        "x=10\n",
        "y=5\n",
        "resultado=y*x\n",
        "print(resultado)"
      ],
      "metadata": {
        "colab": {
          "base_uri": "https://localhost:8080/"
        },
        "id": "Psm91Vc94HmM",
        "outputId": "9d850978-ccd0-4c09-eea5-5940f33b19d8"
      },
      "execution_count": 34,
      "outputs": [
        {
          "output_type": "stream",
          "name": "stdout",
          "text": [
            "50\n"
          ]
        }
      ]
    },
    {
      "cell_type": "code",
      "source": [
        "x=False\n",
        "print(x)\n",
        "print(type(x))"
      ],
      "metadata": {
        "colab": {
          "base_uri": "https://localhost:8080/"
        },
        "id": "yYOnqINU6rtp",
        "outputId": "81279f55-0d67-44e7-b43e-28f00ef24e95"
      },
      "execution_count": 35,
      "outputs": [
        {
          "output_type": "stream",
          "name": "stdout",
          "text": [
            "False\n",
            "<class 'bool'>\n"
          ]
        }
      ]
    },
    {
      "cell_type": "code",
      "source": [
        "x=20\n",
        "y=5\n",
        "if x == y:\n",
        "  print(x)\n",
        "else:\n",
        "  print(\"no son iguales\")"
      ],
      "metadata": {
        "colab": {
          "base_uri": "https://localhost:8080/"
        },
        "id": "aiFMCimZ69mN",
        "outputId": "c0eb282e-7baa-449f-edbd-b5f084544cbf"
      },
      "execution_count": 36,
      "outputs": [
        {
          "output_type": "stream",
          "name": "stdout",
          "text": [
            "no son iguales\n"
          ]
        }
      ]
    },
    {
      "cell_type": "code",
      "source": [
        "i = 0\n",
        "while i < 10:\n",
        "  print(i)\n",
        "  i += 1"
      ],
      "metadata": {
        "colab": {
          "base_uri": "https://localhost:8080/"
        },
        "id": "Jlv_5xWT-wlz",
        "outputId": "1486bc92-db55-4e1d-e27e-e8d1c994e997"
      },
      "execution_count": 37,
      "outputs": [
        {
          "output_type": "stream",
          "name": "stdout",
          "text": [
            "0\n",
            "1\n",
            "2\n",
            "3\n",
            "4\n",
            "5\n",
            "6\n",
            "7\n",
            "8\n",
            "9\n"
          ]
        }
      ]
    }
  ]
}