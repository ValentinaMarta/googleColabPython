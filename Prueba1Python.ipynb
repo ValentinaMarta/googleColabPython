{
  "nbformat": 4,
  "nbformat_minor": 0,
  "metadata": {
    "colab": {
      "name": "Prueba1Python.ipynb",
      "provenance": [],
      "collapsed_sections": [],
      "authorship_tag": "ABX9TyPYVEgYnik/KJD7AeHnGp31",
      "include_colab_link": true
    },
    "kernelspec": {
      "name": "python3",
      "display_name": "Python 3"
    },
    "language_info": {
      "name": "python"
    }
  },
  "cells": [
    {
      "cell_type": "markdown",
      "metadata": {
        "id": "view-in-github",
        "colab_type": "text"
      },
      "source": [
        "<a href=\"https://colab.research.google.com/github/ValentinaMarta/googleColabPython/blob/main/Prueba1Python.ipynb\" target=\"_parent\"><img src=\"https://colab.research.google.com/assets/colab-badge.svg\" alt=\"Open In Colab\"/></a>"
      ]
    },
    {
      "cell_type": "markdown",
      "source": [
        "EMPEZANDO CON PYTHON"
      ],
      "metadata": {
        "id": "VY0pRNS9S-yP"
      }
    },
    {
      "cell_type": "code",
      "execution_count": null,
      "metadata": {
        "colab": {
          "base_uri": "https://localhost:8080/"
        },
        "id": "uUs5WQDCjByy",
        "outputId": "b876b17a-429b-43cc-e31e-4b6c6bc6d956"
      },
      "outputs": [
        {
          "output_type": "stream",
          "name": "stdout",
          "text": [
            "Valentina Marta\n"
          ]
        }
      ],
      "source": [
        "print (\"Valentina Marta\")"
      ]
    },
    {
      "cell_type": "code",
      "source": [
        "#Declarando una lista y dandole valor\n",
        "lista=['Cristal','Ainara','Alicia','Chantell']\n",
        "print(lista)\n"
      ],
      "metadata": {
        "colab": {
          "base_uri": "https://localhost:8080/"
        },
        "id": "AoEz6423rXpe",
        "outputId": "7d028c45-e43e-4b06-a93a-d530a4c4aeb5"
      },
      "execution_count": null,
      "outputs": [
        {
          "output_type": "stream",
          "name": "stdout",
          "text": [
            "['Cristal', 'Ainara', 'Alicia', 'Chantell']\n"
          ]
        }
      ]
    },
    {
      "cell_type": "code",
      "source": [
        "#Inserto en la posicion 0 un nuevo elemento\n",
        "lista.insert(0,'Ana')\n",
        "print(lista)"
      ],
      "metadata": {
        "colab": {
          "base_uri": "https://localhost:8080/"
        },
        "id": "ktWbDG09uZ8w",
        "outputId": "a129afa0-e00a-43ae-91ec-a8e2f547ad8d"
      },
      "execution_count": null,
      "outputs": [
        {
          "output_type": "stream",
          "name": "stdout",
          "text": [
            "['Ana', 'Cristal', 'Ainara', 'Alicia', 'Chantell']\n"
          ]
        }
      ]
    },
    {
      "cell_type": "code",
      "source": [
        "#Declarando otra lista \n",
        "frutas=('naranja','platano','frambuesa')\n",
        "print(frutas)\n"
      ],
      "metadata": {
        "colab": {
          "base_uri": "https://localhost:8080/"
        },
        "id": "OzoqAzM8vzzJ",
        "outputId": "dc7ec028-044d-48cf-d9ed-9edd52412746"
      },
      "execution_count": null,
      "outputs": [
        {
          "output_type": "stream",
          "name": "stdout",
          "text": [
            "('naranja', 'platano', 'frambuesa')\n"
          ]
        }
      ]
    },
    {
      "cell_type": "code",
      "source": [
        "#Imprime la longitud de la lista(los elementos que contiene)\n",
        "print(len(frutas))"
      ],
      "metadata": {
        "id": "G961ogEICRFm",
        "colab": {
          "base_uri": "https://localhost:8080/"
        },
        "outputId": "3e33856d-edbb-4e63-83d9-a9ee679a80a2"
      },
      "execution_count": null,
      "outputs": [
        {
          "output_type": "stream",
          "name": "stdout",
          "text": [
            "3\n"
          ]
        }
      ]
    },
    {
      "cell_type": "code",
      "source": [
        "#Imprime el elemento que esta en la posicion 2\n",
        "print(frutas[2])"
      ],
      "metadata": {
        "colab": {
          "base_uri": "https://localhost:8080/"
        },
        "id": "YZREnYWWwbCw",
        "outputId": "1c7b1896-4734-4d1b-a370-28cb31a3a5c7"
      },
      "execution_count": null,
      "outputs": [
        {
          "output_type": "stream",
          "name": "stdout",
          "text": [
            "frambuesa\n"
          ]
        }
      ]
    },
    {
      "cell_type": "code",
      "source": [
        "\n",
        "lista=list(frutas)\n",
        "print()"
      ],
      "metadata": {
        "id": "iiBPnKRNzpYx",
        "colab": {
          "base_uri": "https://localhost:8080/"
        },
        "outputId": "65fa1cee-c8f5-4e1d-a117-c642604de592"
      },
      "execution_count": null,
      "outputs": [
        {
          "output_type": "stream",
          "name": "stdout",
          "text": [
            "\n"
          ]
        }
      ]
    },
    {
      "cell_type": "markdown",
      "source": [
        "#1.mostrar por pantalla la suma de dos numero"
      ],
      "metadata": {
        "id": "y7FP7aKAk9sl"
      }
    },
    {
      "cell_type": "code",
      "source": [
        "num=int(input(\"dime un numero \" ))"
      ],
      "metadata": {
        "id": "i8OxPzc0lbik",
        "colab": {
          "base_uri": "https://localhost:8080/"
        },
        "outputId": "2d818d9c-9d9e-4969-e625-f61d6f198d87"
      },
      "execution_count": null,
      "outputs": [
        {
          "name": "stdout",
          "output_type": "stream",
          "text": [
            "dime un numero 8\n"
          ]
        }
      ]
    },
    {
      "cell_type": "code",
      "source": [
        "num2=int(input(\"dime otro numero \"))"
      ],
      "metadata": {
        "id": "af-1rzw4mC-q",
        "colab": {
          "base_uri": "https://localhost:8080/"
        },
        "outputId": "4c4e8b32-3b11-4046-cc3a-a6e9ed81de28"
      },
      "execution_count": null,
      "outputs": [
        {
          "name": "stdout",
          "output_type": "stream",
          "text": [
            "dime otro numero 15\n"
          ]
        }
      ]
    },
    {
      "cell_type": "code",
      "source": [
        "total=num+num2\n",
        "print(total)"
      ],
      "metadata": {
        "id": "o98EW2MEuUiz",
        "colab": {
          "base_uri": "https://localhost:8080/"
        },
        "outputId": "de404eef-0a1b-4694-a3d9-3bed76d65ea7"
      },
      "execution_count": null,
      "outputs": [
        {
          "output_type": "stream",
          "name": "stdout",
          "text": [
            "23\n"
          ]
        }
      ]
    },
    {
      "cell_type": "code",
      "source": [
        "n3=int(input(\"dime otro numero \"))\n"
      ],
      "metadata": {
        "id": "spsB5xoewpSN",
        "colab": {
          "base_uri": "https://localhost:8080/"
        },
        "outputId": "42b59a2e-4c11-414a-c13c-b7e6c2aa290c"
      },
      "execution_count": null,
      "outputs": [
        {
          "name": "stdout",
          "output_type": "stream",
          "text": [
            "dime otro numero 20\n"
          ]
        }
      ]
    },
    {
      "cell_type": "code",
      "source": [
        "n4=float(input(\"dime otro numero \"))"
      ],
      "metadata": {
        "id": "aPj2ntQDw4oC",
        "colab": {
          "base_uri": "https://localhost:8080/"
        },
        "outputId": "2dd30fad-452d-48cd-fe56-f45a277fd442"
      },
      "execution_count": null,
      "outputs": [
        {
          "name": "stdout",
          "output_type": "stream",
          "text": [
            "dime otro numero 5.5\n"
          ]
        }
      ]
    },
    {
      "cell_type": "code",
      "source": [
        "tot=n4+n3\n",
        "print(tot)"
      ],
      "metadata": {
        "id": "F0GChswcxBut",
        "colab": {
          "base_uri": "https://localhost:8080/"
        },
        "outputId": "53387285-eb19-48f5-bda7-e27d933c3e61"
      },
      "execution_count": null,
      "outputs": [
        {
          "output_type": "stream",
          "name": "stdout",
          "text": [
            "25.5\n"
          ]
        }
      ]
    },
    {
      "cell_type": "code",
      "source": [
        "miEdad=18\n",
        "print(miEdad)\n",
        "print(miEdad+1)\n",
        "print(miEdad-1)"
      ],
      "metadata": {
        "id": "QIKgRDYK2oTu",
        "colab": {
          "base_uri": "https://localhost:8080/"
        },
        "outputId": "d9361814-fab0-4812-dae6-6c60bbf142c7"
      },
      "execution_count": null,
      "outputs": [
        {
          "output_type": "stream",
          "name": "stdout",
          "text": [
            "18\n",
            "19\n",
            "17\n"
          ]
        }
      ]
    },
    {
      "cell_type": "code",
      "source": [
        "x=10\n",
        "y=5\n",
        "resultado=y*x\n",
        "print(resultado)"
      ],
      "metadata": {
        "id": "Psm91Vc94HmM",
        "colab": {
          "base_uri": "https://localhost:8080/"
        },
        "outputId": "c22d3f2e-064a-42b7-8f5d-308d70c78148"
      },
      "execution_count": null,
      "outputs": [
        {
          "output_type": "stream",
          "name": "stdout",
          "text": [
            "50\n"
          ]
        }
      ]
    },
    {
      "cell_type": "code",
      "source": [
        "x=False\n",
        "print(x)\n",
        "print(type(x))"
      ],
      "metadata": {
        "id": "yYOnqINU6rtp",
        "colab": {
          "base_uri": "https://localhost:8080/"
        },
        "outputId": "a9c6b7aa-3bac-4baf-e0de-45c18ed3f5d7"
      },
      "execution_count": null,
      "outputs": [
        {
          "output_type": "stream",
          "name": "stdout",
          "text": [
            "False\n",
            "<class 'bool'>\n"
          ]
        }
      ]
    },
    {
      "cell_type": "code",
      "source": [
        "x=20\n",
        "y=5\n",
        "if x == y:\n",
        "  print(\"Son iguales\")\n",
        "else:\n",
        "  print(\"No son iguales\")"
      ],
      "metadata": {
        "id": "aiFMCimZ69mN",
        "colab": {
          "base_uri": "https://localhost:8080/"
        },
        "outputId": "e67943c7-88d9-4e0f-ef16-05e65b8c3179"
      },
      "execution_count": 57,
      "outputs": [
        {
          "output_type": "stream",
          "name": "stdout",
          "text": [
            "No son iguales\n"
          ]
        }
      ]
    },
    {
      "cell_type": "code",
      "source": [
        "i = 0\n",
        "while i < 10:\n",
        "  print(i)\n",
        "  i += 1"
      ],
      "metadata": {
        "id": "Jlv_5xWT-wlz",
        "colab": {
          "base_uri": "https://localhost:8080/"
        },
        "outputId": "c7912387-67d9-4c26-8540-20a506907c8e"
      },
      "execution_count": null,
      "outputs": [
        {
          "output_type": "stream",
          "name": "stdout",
          "text": [
            "0\n",
            "1\n",
            "2\n",
            "3\n",
            "4\n",
            "5\n",
            "6\n",
            "7\n",
            "8\n",
            "9\n"
          ]
        }
      ]
    },
    {
      "cell_type": "code",
      "source": [
        "lista=['Lunes','Mates','Miercoles','Jueves','Viernes','Sabado','Domingo']\n",
        "print(lista)"
      ],
      "metadata": {
        "colab": {
          "base_uri": "https://localhost:8080/"
        },
        "id": "mleFfSxb8N4e",
        "outputId": "55ca8c92-d2d3-410a-f6bd-d012333d23c6"
      },
      "execution_count": 58,
      "outputs": [
        {
          "output_type": "stream",
          "name": "stdout",
          "text": [
            "['Lunes', 'Mates', 'Miercoles', 'Jueves', 'Viernes', 'Sabado', 'Domingo']\n"
          ]
        }
      ]
    },
    {
      "cell_type": "code",
      "source": [
        "#Buscar un valor en una lista(no hace falta de un for)\n",
        "if 'Sabado' or 'Domingo'in lista:\n",
        "  print('Es fin de semana')\n",
        "else: \n",
        "  print(\"No es fin de semana\")"
      ],
      "metadata": {
        "colab": {
          "base_uri": "https://localhost:8080/"
        },
        "id": "GkLSNCUV-NFK",
        "outputId": "90230725-6ec5-46d7-ac8d-a52ef716c713"
      },
      "execution_count": 59,
      "outputs": [
        {
          "output_type": "stream",
          "name": "stdout",
          "text": [
            "Es fin de semana\n"
          ]
        }
      ]
    },
    {
      "cell_type": "code",
      "source": [
        "#imprime lista sin comillas ni coma\n",
        "for i in lista:\n",
        "  print(i, end=\" \")"
      ],
      "metadata": {
        "colab": {
          "base_uri": "https://localhost:8080/"
        },
        "id": "orv3GDi_CD85",
        "outputId": "0c55aba3-be55-40a1-911d-04e8fb705737"
      },
      "execution_count": 60,
      "outputs": [
        {
          "output_type": "stream",
          "name": "stdout",
          "text": [
            "Lunes Mates Miercoles Jueves Viernes Sabado Domingo "
          ]
        }
      ]
    },
    {
      "cell_type": "code",
      "source": [
        "listaNumeros=[1,2,3,4,5,6,7,2200]\n",
        "print (listaNumeros)"
      ],
      "metadata": {
        "colab": {
          "base_uri": "https://localhost:8080/"
        },
        "id": "M8oFxyywEKf1",
        "outputId": "a93d208d-7529-4ce9-dc58-1b1274decb99"
      },
      "execution_count": 61,
      "outputs": [
        {
          "output_type": "stream",
          "name": "stdout",
          "text": [
            "[1, 2, 3, 4, 5, 6, 7, 2200]\n"
          ]
        }
      ]
    },
    {
      "cell_type": "code",
      "source": [
        "#Busca un valor en una lista\n",
        "if 5000  in listaNumeros:\n",
        "  print(\"El numero esta en la lista\")\n",
        "else:\n",
        "  print(\"No se ha encontrado el numero\")"
      ],
      "metadata": {
        "colab": {
          "base_uri": "https://localhost:8080/"
        },
        "id": "Ph9pTXyCEeCD",
        "outputId": "fc9ee8bc-e32a-4268-fab4-4111515b3e16"
      },
      "execution_count": 63,
      "outputs": [
        {
          "output_type": "stream",
          "name": "stdout",
          "text": [
            "No se ha encontrado el numero\n"
          ]
        }
      ]
    }
  ]
}